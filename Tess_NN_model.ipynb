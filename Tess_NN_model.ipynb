{
 "cells": [
  {
   "cell_type": "code",
   "execution_count": 1,
   "metadata": {
    "colab": {},
    "colab_type": "code",
    "id": "lK9cEMLfByc6"
   },
   "outputs": [],
   "source": [
    "import pandas as pd"
   ]
  },
  {
   "cell_type": "code",
   "execution_count": 2,
   "metadata": {
    "colab": {
     "base_uri": "https://localhost:8080/",
     "height": 1000
    },
    "colab_type": "code",
    "id": "_J58aqd5B5wS",
    "outputId": "bfbec7e3-1139-4dcd-8d26-e896676cb1d8"
   },
   "outputs": [],
   "source": [
    "#!condapip install lightkurve"
   ]
  },
  {
   "cell_type": "code",
   "execution_count": 3,
   "metadata": {
    "colab": {},
    "colab_type": "code",
    "id": "qxxnVbkJB6Fg"
   },
   "outputs": [],
   "source": [
    "from lightkurve import search_targetpixelfile\n"
   ]
  },
  {
   "cell_type": "code",
   "execution_count": 4,
   "metadata": {
    "colab": {},
    "colab_type": "code",
    "id": "mMNfw2lfCBmU"
   },
   "outputs": [],
   "source": [
    "import matplotlib.pyplot as plt\n",
    "%matplotlib inline"
   ]
  },
  {
   "cell_type": "code",
   "execution_count": 5,
   "metadata": {
    "colab": {
     "base_uri": "https://localhost:8080/",
     "height": 73,
     "resources": {
      "http://localhost:8080/nbextensions/google.colab/files.js": {
       "data": "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",
       "headers": [
        [
         "content-type",
         "application/javascript"
        ]
       ],
       "ok": true,
       "status": 200,
       "status_text": ""
      }
     }
    },
    "colab_type": "code",
    "id": "vjVTuDX7Ceym",
    "outputId": "a61bc7aa-70b1-441d-cbf2-0305d6159d45"
   },
   "outputs": [],
   "source": [
    "# from google.colab import files\n",
    "# uploaded = files.upload()"
   ]
  },
  {
   "cell_type": "code",
   "execution_count": 6,
   "metadata": {
    "colab": {},
    "colab_type": "code",
    "id": "mODfQDr5CSbQ"
   },
   "outputs": [],
   "source": [
    "tess_id = pd.read_csv(\"../Machinelearning/confirmedplanets.csv\")"
   ]
  },
  {
   "cell_type": "code",
   "execution_count": 7,
   "metadata": {
    "colab": {
     "base_uri": "https://localhost:8080/",
     "height": 301
    },
    "colab_type": "code",
    "id": "y-KO4uFjDf8a",
    "outputId": "8935f9f7-796c-45a6-fe51-c675d072c667"
   },
   "outputs": [
    {
     "data": {
      "text/html": [
       "<div>\n",
       "<style scoped>\n",
       "    .dataframe tbody tr th:only-of-type {\n",
       "        vertical-align: middle;\n",
       "    }\n",
       "\n",
       "    .dataframe tbody tr th {\n",
       "        vertical-align: top;\n",
       "    }\n",
       "\n",
       "    .dataframe thead th {\n",
       "        text-align: right;\n",
       "    }\n",
       "</style>\n",
       "<table border=\"1\" class=\"dataframe\">\n",
       "  <thead>\n",
       "    <tr style=\"text-align: right;\">\n",
       "      <th></th>\n",
       "      <th>Unnamed: 0</th>\n",
       "      <th>tid</th>\n",
       "      <th>tfopwg_disp</th>\n",
       "    </tr>\n",
       "  </thead>\n",
       "  <tbody>\n",
       "    <tr>\n",
       "      <th>0</th>\n",
       "      <td>0</td>\n",
       "      <td>207081058</td>\n",
       "      <td>0</td>\n",
       "    </tr>\n",
       "    <tr>\n",
       "      <th>1</th>\n",
       "      <td>1</td>\n",
       "      <td>29831208</td>\n",
       "      <td>0</td>\n",
       "    </tr>\n",
       "    <tr>\n",
       "      <th>2</th>\n",
       "      <td>2</td>\n",
       "      <td>235037761</td>\n",
       "      <td>0</td>\n",
       "    </tr>\n",
       "    <tr>\n",
       "      <th>3</th>\n",
       "      <td>3</td>\n",
       "      <td>176957796</td>\n",
       "      <td>0</td>\n",
       "    </tr>\n",
       "    <tr>\n",
       "      <th>4</th>\n",
       "      <td>4</td>\n",
       "      <td>277683130</td>\n",
       "      <td>0</td>\n",
       "    </tr>\n",
       "  </tbody>\n",
       "</table>\n",
       "</div>"
      ],
      "text/plain": [
       "   Unnamed: 0        tid  tfopwg_disp\n",
       "0           0  207081058            0\n",
       "1           1   29831208            0\n",
       "2           2  235037761            0\n",
       "3           3  176957796            0\n",
       "4           4  277683130            0"
      ]
     },
     "execution_count": 7,
     "metadata": {},
     "output_type": "execute_result"
    }
   ],
   "source": [
    "tess_id.head()"
   ]
  },
  {
   "cell_type": "code",
   "execution_count": 8,
   "metadata": {
    "colab": {},
    "colab_type": "code",
    "id": "XhTxnjpPDibt"
   },
   "outputs": [],
   "source": [
    "tess_id = tess_id.drop_duplicates(subset='tid')"
   ]
  },
  {
   "cell_type": "code",
   "execution_count": 9,
   "metadata": {},
   "outputs": [
    {
     "data": {
      "text/plain": [
       "(328, 3)"
      ]
     },
     "execution_count": 9,
     "metadata": {},
     "output_type": "execute_result"
    }
   ],
   "source": [
    "tess_id.shape"
   ]
  },
  {
   "cell_type": "code",
   "execution_count": 10,
   "metadata": {
    "colab": {},
    "colab_type": "code",
    "id": "QwD35HTqC4Yw"
   },
   "outputs": [],
   "source": [
    "from lightkurve import search_targetpixelfile\n"
   ]
  },
  {
   "cell_type": "code",
   "execution_count": null,
   "metadata": {
    "colab": {
     "base_uri": "https://localhost:8080/",
     "height": 86
    },
    "colab_type": "code",
    "id": "PyAF5ij6k252",
    "outputId": "9a5b41b8-1be0-4288-fe75-20a34a0a5bcc"
   },
   "outputs": [],
   "source": [
    "#search_targetpixelfile(271893367).download(quality_bitmask='hardest').time.shape\n"
   ]
  },
  {
   "cell_type": "code",
   "execution_count": null,
   "metadata": {},
   "outputs": [],
   "source": []
  },
  {
   "cell_type": "code",
   "execution_count": null,
   "metadata": {
    "colab": {},
    "colab_type": "code",
    "id": "v4zYl0LyCrLk"
   },
   "outputs": [
    {
     "name": "stderr",
     "output_type": "stream",
     "text": [
      "Warning: 207081058 may refer to a different K2 or TESS target. Please add the prefix 'EPIC' or 'TIC' to disambiguate.\n",
      "C:\\Users\\mhdal\\Anaconda3\\envs\\lambda-neural\\lib\\site-packages\\lightkurve\\search.py:177: LightkurveWarning: Cannot download from an empty search result.\n",
      "  LightkurveWarning)\n",
      "Warning: 29831208 may refer to a different K2 or TESS target. Please add the prefix 'EPIC' or 'TIC' to disambiguate.\n",
      "C:\\Users\\mhdal\\Anaconda3\\envs\\lambda-neural\\lib\\site-packages\\lightkurve\\search.py:185: LightkurveWarning: Warning: 12 files available to download. Only the first file has been downloaded. Please use `download_all()` or specify additional criteria (e.g. quarter, campaign, or sector) to limit your search.\n",
      "  LightkurveWarning)\n",
      "Warning: 235037761 may refer to a different K2 or TESS target. Please add the prefix 'EPIC' or 'TIC' to disambiguate.\n",
      "No data found for target \"235037761\".\n",
      "C:\\Users\\mhdal\\Anaconda3\\envs\\lambda-neural\\lib\\site-packages\\lightkurve\\search.py:177: LightkurveWarning: Cannot download from an empty search result.\n",
      "  LightkurveWarning)\n",
      "Warning: 176957796 may refer to a different K2 or TESS target. Please add the prefix 'EPIC' or 'TIC' to disambiguate.\n",
      "C:\\Users\\mhdal\\Anaconda3\\envs\\lambda-neural\\lib\\site-packages\\lightkurve\\search.py:185: LightkurveWarning: Warning: 12 files available to download. Only the first file has been downloaded. Please use `download_all()` or specify additional criteria (e.g. quarter, campaign, or sector) to limit your search.\n",
      "  LightkurveWarning)\n",
      "C:\\Users\\mhdal\\Anaconda3\\envs\\lambda-neural\\lib\\site-packages\\lightkurve\\search.py:177: LightkurveWarning: Cannot download from an empty search result.\n",
      "  LightkurveWarning)\n",
      "Warning: 231081369 may refer to a different K2 or TESS target. Please add the prefix 'EPIC' or 'TIC' to disambiguate.\n",
      "No data found for target \"231081369\".\n",
      "C:\\Users\\mhdal\\Anaconda3\\envs\\lambda-neural\\lib\\site-packages\\lightkurve\\search.py:177: LightkurveWarning: Cannot download from an empty search result.\n",
      "  LightkurveWarning)\n",
      "C:\\Users\\mhdal\\Anaconda3\\envs\\lambda-neural\\lib\\site-packages\\lightkurve\\search.py:177: LightkurveWarning: Cannot download from an empty search result.\n",
      "  LightkurveWarning)\n",
      "Warning: 220518305 may refer to a different K2 or TESS target. Please add the prefix 'EPIC' or 'TIC' to disambiguate.\n",
      "No data found for target \"220518305\".\n",
      "C:\\Users\\mhdal\\Anaconda3\\envs\\lambda-neural\\lib\\site-packages\\lightkurve\\search.py:177: LightkurveWarning: Cannot download from an empty search result.\n",
      "  LightkurveWarning)\n",
      "C:\\Users\\mhdal\\Anaconda3\\envs\\lambda-neural\\lib\\site-packages\\lightkurve\\search.py:177: LightkurveWarning: Cannot download from an empty search result.\n",
      "  LightkurveWarning)\n",
      "Warning: 99493790 may refer to a different K2 or TESS target. Please add the prefix 'EPIC' or 'TIC' to disambiguate.\n",
      "C:\\Users\\mhdal\\Anaconda3\\envs\\lambda-neural\\lib\\site-packages\\lightkurve\\search.py:177: LightkurveWarning: Cannot download from an empty search result.\n",
      "  LightkurveWarning)\n",
      "Warning: 79395355 may refer to a different K2 or TESS target. Please add the prefix 'EPIC' or 'TIC' to disambiguate.\n",
      "C:\\Users\\mhdal\\Anaconda3\\envs\\lambda-neural\\lib\\site-packages\\lightkurve\\search.py:177: LightkurveWarning: Cannot download from an empty search result.\n",
      "  LightkurveWarning)\n",
      "C:\\Users\\mhdal\\Anaconda3\\envs\\lambda-neural\\lib\\site-packages\\lightkurve\\search.py:185: LightkurveWarning: Warning: 11 files available to download. Only the first file has been downloaded. Please use `download_all()` or specify additional criteria (e.g. quarter, campaign, or sector) to limit your search.\n",
      "  LightkurveWarning)\n",
      "Warning: 31% (6168/19692) of the cadences will be ignored due to the quality mask (quality_bitmask=4095).\n",
      "Warning: 51912829 may refer to a different K2 or TESS target. Please add the prefix 'EPIC' or 'TIC' to disambiguate.\n",
      "C:\\Users\\mhdal\\Anaconda3\\envs\\lambda-neural\\lib\\site-packages\\lightkurve\\search.py:185: LightkurveWarning: Warning: 2 files available to download. Only the first file has been downloaded. Please use `download_all()` or specify additional criteria (e.g. quarter, campaign, or sector) to limit your search.\n",
      "  LightkurveWarning)\n",
      "Warning: 76989773 may refer to a different K2 or TESS target. Please add the prefix 'EPIC' or 'TIC' to disambiguate.\n",
      "C:\\Users\\mhdal\\Anaconda3\\envs\\lambda-neural\\lib\\site-packages\\lightkurve\\search.py:185: LightkurveWarning: Warning: 13 files available to download. Only the first file has been downloaded. Please use `download_all()` or specify additional criteria (e.g. quarter, campaign, or sector) to limit your search.\n",
      "  LightkurveWarning)\n",
      "C:\\Users\\mhdal\\Anaconda3\\envs\\lambda-neural\\lib\\site-packages\\lightkurve\\search.py:185: LightkurveWarning: Warning: 13 files available to download. Only the first file has been downloaded. Please use `download_all()` or specify additional criteria (e.g. quarter, campaign, or sector) to limit your search.\n",
      "  LightkurveWarning)\n",
      "C:\\Users\\mhdal\\Anaconda3\\envs\\lambda-neural\\lib\\site-packages\\lightkurve\\search.py:185: LightkurveWarning: Warning: 2 files available to download. Only the first file has been downloaded. Please use `download_all()` or specify additional criteria (e.g. quarter, campaign, or sector) to limit your search.\n",
      "  LightkurveWarning)\n",
      "C:\\Users\\mhdal\\Anaconda3\\envs\\lambda-neural\\lib\\site-packages\\lightkurve\\search.py:185: LightkurveWarning: Warning: 10 files available to download. Only the first file has been downloaded. Please use `download_all()` or specify additional criteria (e.g. quarter, campaign, or sector) to limit your search.\n",
      "  LightkurveWarning)\n",
      "C:\\Users\\mhdal\\Anaconda3\\envs\\lambda-neural\\lib\\site-packages\\lightkurve\\search.py:185: LightkurveWarning: Warning: 13 files available to download. Only the first file has been downloaded. Please use `download_all()` or specify additional criteria (e.g. quarter, campaign, or sector) to limit your search.\n",
      "  LightkurveWarning)\n",
      "C:\\Users\\mhdal\\Anaconda3\\envs\\lambda-neural\\lib\\site-packages\\lightkurve\\search.py:185: LightkurveWarning: Warning: 13 files available to download. Only the first file has been downloaded. Please use `download_all()` or specify additional criteria (e.g. quarter, campaign, or sector) to limit your search.\n",
      "  LightkurveWarning)\n",
      "C:\\Users\\mhdal\\Anaconda3\\envs\\lambda-neural\\lib\\site-packages\\lightkurve\\search.py:185: LightkurveWarning: Warning: 13 files available to download. Only the first file has been downloaded. Please use `download_all()` or specify additional criteria (e.g. quarter, campaign, or sector) to limit your search.\n",
      "  LightkurveWarning)\n",
      "C:\\Users\\mhdal\\Anaconda3\\envs\\lambda-neural\\lib\\site-packages\\lightkurve\\search.py:185: LightkurveWarning: Warning: 13 files available to download. Only the first file has been downloaded. Please use `download_all()` or specify additional criteria (e.g. quarter, campaign, or sector) to limit your search.\n",
      "  LightkurveWarning)\n",
      "Warning: 47484268 may refer to a different K2 or TESS target. Please add the prefix 'EPIC' or 'TIC' to disambiguate.\n",
      "Warning: 9727392 may refer to a different Kepler or TESS target. Please add the prefix 'KIC' or 'TIC' to disambiguate.\n",
      "C:\\Users\\mhdal\\Anaconda3\\envs\\lambda-neural\\lib\\site-packages\\lightkurve\\search.py:185: LightkurveWarning: Warning: 14 files available to download. Only the first file has been downloaded. Please use `download_all()` or specify additional criteria (e.g. quarter, campaign, or sector) to limit your search.\n",
      "  LightkurveWarning)\n",
      "Warning: 120585579 may refer to a different K2 or TESS target. Please add the prefix 'EPIC' or 'TIC' to disambiguate.\n",
      "Warning: 149010208 may refer to a different K2 or TESS target. Please add the prefix 'EPIC' or 'TIC' to disambiguate.\n",
      "C:\\Users\\mhdal\\Anaconda3\\envs\\lambda-neural\\lib\\site-packages\\lightkurve\\search.py:185: LightkurveWarning: Warning: 13 files available to download. Only the first file has been downloaded. Please use `download_all()` or specify additional criteria (e.g. quarter, campaign, or sector) to limit your search.\n",
      "  LightkurveWarning)\n",
      "C:\\Users\\mhdal\\Anaconda3\\envs\\lambda-neural\\lib\\site-packages\\lightkurve\\search.py:185: LightkurveWarning: Warning: 3 files available to download. Only the first file has been downloaded. Please use `download_all()` or specify additional criteria (e.g. quarter, campaign, or sector) to limit your search.\n",
      "  LightkurveWarning)\n",
      "C:\\Users\\mhdal\\Anaconda3\\envs\\lambda-neural\\lib\\site-packages\\lightkurve\\search.py:185: LightkurveWarning: Warning: 11 files available to download. Only the first file has been downloaded. Please use `download_all()` or specify additional criteria (e.g. quarter, campaign, or sector) to limit your search.\n",
      "  LightkurveWarning)\n",
      "C:\\Users\\mhdal\\Anaconda3\\envs\\lambda-neural\\lib\\site-packages\\lightkurve\\search.py:185: LightkurveWarning: Warning: 8 files available to download. Only the first file has been downloaded. Please use `download_all()` or specify additional criteria (e.g. quarter, campaign, or sector) to limit your search.\n",
      "  LightkurveWarning)\n",
      "Warning: 31% (6168/19692) of the cadences will be ignored due to the quality mask (quality_bitmask=4095).\n",
      "C:\\Users\\mhdal\\Anaconda3\\envs\\lambda-neural\\lib\\site-packages\\lightkurve\\search.py:185: LightkurveWarning: Warning: 10 files available to download. Only the first file has been downloaded. Please use `download_all()` or specify additional criteria (e.g. quarter, campaign, or sector) to limit your search.\n",
      "  LightkurveWarning)\n",
      "Warning: 166697854 may refer to a different K2 or TESS target. Please add the prefix 'EPIC' or 'TIC' to disambiguate.\n",
      "C:\\Users\\mhdal\\Anaconda3\\envs\\lambda-neural\\lib\\site-packages\\lightkurve\\search.py:177: LightkurveWarning: Cannot download from an empty search result.\n",
      "  LightkurveWarning)\n",
      "C:\\Users\\mhdal\\Anaconda3\\envs\\lambda-neural\\lib\\site-packages\\lightkurve\\search.py:177: LightkurveWarning: Cannot download from an empty search result.\n",
      "  LightkurveWarning)\n",
      "C:\\Users\\mhdal\\Anaconda3\\envs\\lambda-neural\\lib\\site-packages\\lightkurve\\search.py:177: LightkurveWarning: Cannot download from an empty search result.\n",
      "  LightkurveWarning)\n",
      "Warning: 188593930 may refer to a different K2 or TESS target. Please add the prefix 'EPIC' or 'TIC' to disambiguate.\n",
      "C:\\Users\\mhdal\\Anaconda3\\envs\\lambda-neural\\lib\\site-packages\\lightkurve\\search.py:177: LightkurveWarning: Cannot download from an empty search result.\n",
      "  LightkurveWarning)\n",
      "Warning: 175476629 may refer to a different K2 or TESS target. Please add the prefix 'EPIC' or 'TIC' to disambiguate.\n",
      "C:\\Users\\mhdal\\Anaconda3\\envs\\lambda-neural\\lib\\site-packages\\lightkurve\\search.py:177: LightkurveWarning: Cannot download from an empty search result.\n",
      "  LightkurveWarning)\n",
      "Warning: 144336525 may refer to a different K2 or TESS target. Please add the prefix 'EPIC' or 'TIC' to disambiguate.\n",
      "C:\\Users\\mhdal\\Anaconda3\\envs\\lambda-neural\\lib\\site-packages\\lightkurve\\search.py:177: LightkurveWarning: Cannot download from an empty search result.\n",
      "  LightkurveWarning)\n",
      "Warning: 233964642 may refer to a different K2 or TESS target. Please add the prefix 'EPIC' or 'TIC' to disambiguate.\n",
      "No data found for target \"233964642\".\n",
      "C:\\Users\\mhdal\\Anaconda3\\envs\\lambda-neural\\lib\\site-packages\\lightkurve\\search.py:177: LightkurveWarning: Cannot download from an empty search result.\n",
      "  LightkurveWarning)\n",
      "Warning: 55452495 may refer to a different K2 or TESS target. Please add the prefix 'EPIC' or 'TIC' to disambiguate.\n",
      "C:\\Users\\mhdal\\Anaconda3\\envs\\lambda-neural\\lib\\site-packages\\lightkurve\\search.py:185: LightkurveWarning: Warning: 5 files available to download. Only the first file has been downloaded. Please use `download_all()` or specify additional criteria (e.g. quarter, campaign, or sector) to limit your search.\n",
      "  LightkurveWarning)\n",
      "Warning: 69838258 may refer to a different K2 or TESS target. Please add the prefix 'EPIC' or 'TIC' to disambiguate.\n",
      "C:\\Users\\mhdal\\Anaconda3\\envs\\lambda-neural\\lib\\site-packages\\lightkurve\\search.py:177: LightkurveWarning: Cannot download from an empty search result.\n",
      "  LightkurveWarning)\n",
      "C:\\Users\\mhdal\\Anaconda3\\envs\\lambda-neural\\lib\\site-packages\\lightkurve\\search.py:177: LightkurveWarning: Cannot download from an empty search result.\n",
      "  LightkurveWarning)\n",
      "Warning: 47423120 may refer to a different K2 or TESS target. Please add the prefix 'EPIC' or 'TIC' to disambiguate.\n",
      "C:\\Users\\mhdal\\Anaconda3\\envs\\lambda-neural\\lib\\site-packages\\lightkurve\\search.py:177: LightkurveWarning: Cannot download from an empty search result.\n",
      "  LightkurveWarning)\n",
      "Warning: 9033144 may refer to a different Kepler or TESS target. Please add the prefix 'KIC' or 'TIC' to disambiguate.\n",
      "C:\\Users\\mhdal\\Anaconda3\\envs\\lambda-neural\\lib\\site-packages\\lightkurve\\search.py:177: LightkurveWarning: Cannot download from an empty search result.\n",
      "  LightkurveWarning)\n",
      "Warning: 139285736 may refer to a different K2 or TESS target. Please add the prefix 'EPIC' or 'TIC' to disambiguate.\n",
      "C:\\Users\\mhdal\\Anaconda3\\envs\\lambda-neural\\lib\\site-packages\\lightkurve\\search.py:177: LightkurveWarning: Cannot download from an empty search result.\n",
      "  LightkurveWarning)\n",
      "Warning: 220396259 may refer to a different K2 or TESS target. Please add the prefix 'EPIC' or 'TIC' to disambiguate.\n",
      "Warning: 207084429 may refer to a different K2 or TESS target. Please add the prefix 'EPIC' or 'TIC' to disambiguate.\n",
      "Warning: 229091748 may refer to a different K2 or TESS target. Please add the prefix 'EPIC' or 'TIC' to disambiguate.\n",
      "Warning: 92359850 may refer to a different K2 or TESS target. Please add the prefix 'EPIC' or 'TIC' to disambiguate.\n",
      "Warning: 9858404 may refer to a different Kepler or TESS target. Please add the prefix 'KIC' or 'TIC' to disambiguate.\n",
      "Warning: 38541473 may refer to a different K2 or TESS target. Please add the prefix 'EPIC' or 'TIC' to disambiguate.\n",
      "Warning: 219379012 may refer to a different K2 or TESS target. Please add the prefix 'EPIC' or 'TIC' to disambiguate.\n",
      "Warning: 219388773 may refer to a different K2 or TESS target. Please add the prefix 'EPIC' or 'TIC' to disambiguate.\n",
      "Warning: 176984236 may refer to a different K2 or TESS target. Please add the prefix 'EPIC' or 'TIC' to disambiguate.\n",
      "Warning: 176778112 may refer to a different K2 or TESS target. Please add the prefix 'EPIC' or 'TIC' to disambiguate.\n",
      "Warning: 167754523 may refer to a different K2 or TESS target. Please add the prefix 'EPIC' or 'TIC' to disambiguate.\n",
      "Warning: 206466531 may refer to a different K2 or TESS target. Please add the prefix 'EPIC' or 'TIC' to disambiguate.\n",
      "Warning: 7624182 may refer to a different Kepler or TESS target. Please add the prefix 'KIC' or 'TIC' to disambiguate.\n",
      "Warning: 49899799 may refer to a different K2 or TESS target. Please add the prefix 'EPIC' or 'TIC' to disambiguate.\n",
      "Warning: 169532369 may refer to a different K2 or TESS target. Please add the prefix 'EPIC' or 'TIC' to disambiguate.\n",
      "Warning: 70914192 may refer to a different K2 or TESS target. Please add the prefix 'EPIC' or 'TIC' to disambiguate.\n",
      "Warning: 38686737 may refer to a different K2 or TESS target. Please add the prefix 'EPIC' or 'TIC' to disambiguate.\n",
      "Warning: 44745077 may refer to a different K2 or TESS target. Please add the prefix 'EPIC' or 'TIC' to disambiguate.\n",
      "Warning: 143350972 may refer to a different K2 or TESS target. Please add the prefix 'EPIC' or 'TIC' to disambiguate.\n",
      "Warning: 14091704 may refer to a different K2 or TESS target. Please add the prefix 'EPIC' or 'TIC' to disambiguate.\n",
      "Warning: 1449640 may refer to a different Kepler or TESS target. Please add the prefix 'KIC' or 'TIC' to disambiguate.\n",
      "Warning: 14091633 may refer to a different K2 or TESS target. Please add the prefix 'EPIC' or 'TIC' to disambiguate.\n",
      "Warning: 77228304 may refer to a different K2 or TESS target. Please add the prefix 'EPIC' or 'TIC' to disambiguate.\n",
      "Warning: 38603673 may refer to a different K2 or TESS target. Please add the prefix 'EPIC' or 'TIC' to disambiguate.\n",
      "Warning: 20178111 may refer to a different K2 or TESS target. Please add the prefix 'EPIC' or 'TIC' to disambiguate.\n",
      "Warning: 52280468 may refer to a different K2 or TESS target. Please add the prefix 'EPIC' or 'TIC' to disambiguate.\n",
      "Warning: 172464366 may refer to a different K2 or TESS target. Please add the prefix 'EPIC' or 'TIC' to disambiguate.\n",
      "Warning: 88977253 may refer to a different K2 or TESS target. Please add the prefix 'EPIC' or 'TIC' to disambiguate.\n",
      "Warning: 108645766 may refer to a different K2 or TESS target. Please add the prefix 'EPIC' or 'TIC' to disambiguate.\n",
      "Warning: 121338379 may refer to a different K2 or TESS target. Please add the prefix 'EPIC' or 'TIC' to disambiguate.\n",
      "Warning: 53593457 may refer to a different K2 or TESS target. Please add the prefix 'EPIC' or 'TIC' to disambiguate.\n",
      "Warning: 32830028 may refer to a different K2 or TESS target. Please add the prefix 'EPIC' or 'TIC' to disambiguate.\n",
      "Warning: 161477033 may refer to a different K2 or TESS target. Please add the prefix 'EPIC' or 'TIC' to disambiguate.\n",
      "Warning: 1103432 may refer to a different Kepler or TESS target. Please add the prefix 'KIC' or 'TIC' to disambiguate.\n",
      "Warning: 1133072 may refer to a different Kepler or TESS target. Please add the prefix 'KIC' or 'TIC' to disambiguate.\n",
      "Warning: 190990336 may refer to a different K2 or TESS target. Please add the prefix 'EPIC' or 'TIC' to disambiguate.\n",
      "Warning: 146261607 may refer to a different K2 or TESS target. Please add the prefix 'EPIC' or 'TIC' to disambiguate.\n",
      "Warning: 196286587 may refer to a different K2 or TESS target. Please add the prefix 'EPIC' or 'TIC' to disambiguate.\n",
      "Warning: 146208651 may refer to a different K2 or TESS target. Please add the prefix 'EPIC' or 'TIC' to disambiguate.\n",
      "Warning: 145982812 may refer to a different K2 or TESS target. Please add the prefix 'EPIC' or 'TIC' to disambiguate.\n",
      "Warning: 122262940 may refer to a different K2 or TESS target. Please add the prefix 'EPIC' or 'TIC' to disambiguate.\n",
      "Warning: 186547153 may refer to a different K2 or TESS target. Please add the prefix 'EPIC' or 'TIC' to disambiguate.\n",
      "Warning: 80275202 may refer to a different K2 or TESS target. Please add the prefix 'EPIC' or 'TIC' to disambiguate.\n",
      "Warning: 30828562 may refer to a different K2 or TESS target. Please add the prefix 'EPIC' or 'TIC' to disambiguate.\n",
      "Warning: 101395259 may refer to a different K2 or TESS target. Please add the prefix 'EPIC' or 'TIC' to disambiguate.\n",
      "Warning: 123898871 may refer to a different K2 or TESS target. Please add the prefix 'EPIC' or 'TIC' to disambiguate.\n",
      "Warning: 146463781 may refer to a different K2 or TESS target. Please add the prefix 'EPIC' or 'TIC' to disambiguate.\n",
      "Warning: 78154865 may refer to a different K2 or TESS target. Please add the prefix 'EPIC' or 'TIC' to disambiguate.\n",
      "Warning: 82362447 may refer to a different K2 or TESS target. Please add the prefix 'EPIC' or 'TIC' to disambiguate.\n",
      "Warning: 78672342 may refer to a different K2 or TESS target. Please add the prefix 'EPIC' or 'TIC' to disambiguate.\n",
      "Warning: 33153766 may refer to a different K2 or TESS target. Please add the prefix 'EPIC' or 'TIC' to disambiguate.\n",
      "Warning: 54085154 may refer to a different K2 or TESS target. Please add the prefix 'EPIC' or 'TIC' to disambiguate.\n",
      "Warning: 73723286 may refer to a different K2 or TESS target. Please add the prefix 'EPIC' or 'TIC' to disambiguate.\n",
      "Warning: 102195674 may refer to a different K2 or TESS target. Please add the prefix 'EPIC' or 'TIC' to disambiguate.\n",
      "Warning: 147660201 may refer to a different K2 or TESS target. Please add the prefix 'EPIC' or 'TIC' to disambiguate.\n",
      "Warning: 151681127 may refer to a different K2 or TESS target. Please add the prefix 'EPIC' or 'TIC' to disambiguate.\n",
      "Warning: 151959065 may refer to a different K2 or TESS target. Please add the prefix 'EPIC' or 'TIC' to disambiguate.\n",
      "Warning: 101497191 may refer to a different K2 or TESS target. Please add the prefix 'EPIC' or 'TIC' to disambiguate.\n",
      "Warning: 55559618 may refer to a different K2 or TESS target. Please add the prefix 'EPIC' or 'TIC' to disambiguate.\n",
      "Warning: 219239945 may refer to a different K2 or TESS target. Please add the prefix 'EPIC' or 'TIC' to disambiguate.\n",
      "Warning: 131419878 may refer to a different K2 or TESS target. Please add the prefix 'EPIC' or 'TIC' to disambiguate.\n",
      "Warning: 131081852 may refer to a different K2 or TESS target. Please add the prefix 'EPIC' or 'TIC' to disambiguate.\n",
      "Warning: 152147232 may refer to a different K2 or TESS target. Please add the prefix 'EPIC' or 'TIC' to disambiguate.\n",
      "Warning: 162362398 may refer to a different K2 or TESS target. Please add the prefix 'EPIC' or 'TIC' to disambiguate.\n",
      "Warning: 181159386 may refer to a different K2 or TESS target. Please add the prefix 'EPIC' or 'TIC' to disambiguate.\n",
      "Warning: 229811538 may refer to a different K2 or TESS target. Please add the prefix 'EPIC' or 'TIC' to disambiguate.\n",
      "Warning: 143526444 may refer to a different K2 or TESS target. Please add the prefix 'EPIC' or 'TIC' to disambiguate.\n",
      "Warning: 175180796 may refer to a different K2 or TESS target. Please add the prefix 'EPIC' or 'TIC' to disambiguate.\n",
      "Warning: 32283946 may refer to a different K2 or TESS target. Please add the prefix 'EPIC' or 'TIC' to disambiguate.\n",
      "Warning: 229141709 may refer to a different K2 or TESS target. Please add the prefix 'EPIC' or 'TIC' to disambiguate.\n",
      "Warning: 219205407 may refer to a different K2 or TESS target. Please add the prefix 'EPIC' or 'TIC' to disambiguate.\n",
      "Warning: 189013222 may refer to a different K2 or TESS target. Please add the prefix 'EPIC' or 'TIC' to disambiguate.\n",
      "Warning: 146434840 may refer to a different K2 or TESS target. Please add the prefix 'EPIC' or 'TIC' to disambiguate.\n",
      "Warning: 148659924 may refer to a different K2 or TESS target. Please add the prefix 'EPIC' or 'TIC' to disambiguate.\n",
      "Warning: 52548453 may refer to a different K2 or TESS target. Please add the prefix 'EPIC' or 'TIC' to disambiguate.\n",
      "Warning: 113553629 may refer to a different K2 or TESS target. Please add the prefix 'EPIC' or 'TIC' to disambiguate.\n",
      "Warning: 54044474 may refer to a different K2 or TESS target. Please add the prefix 'EPIC' or 'TIC' to disambiguate.\n",
      "Warning: 31858844 may refer to a different K2 or TESS target. Please add the prefix 'EPIC' or 'TIC' to disambiguate.\n",
      "Warning: 231663901 may refer to a different K2 or TESS target. Please add the prefix 'EPIC' or 'TIC' to disambiguate.\n",
      "Warning: 149603524 may refer to a different K2 or TESS target. Please add the prefix 'EPIC' or 'TIC' to disambiguate.\n",
      "Warning: 231670397 may refer to a different K2 or TESS target. Please add the prefix 'EPIC' or 'TIC' to disambiguate.\n",
      "Warning: 144065872 may refer to a different K2 or TESS target. Please add the prefix 'EPIC' or 'TIC' to disambiguate.\n",
      "Warning: 38846515 may refer to a different K2 or TESS target. Please add the prefix 'EPIC' or 'TIC' to disambiguate.\n",
      "Warning: 92352620 may refer to a different K2 or TESS target. Please add the prefix 'EPIC' or 'TIC' to disambiguate.\n",
      "Warning: 29344935 may refer to a different K2 or TESS target. Please add the prefix 'EPIC' or 'TIC' to disambiguate.\n",
      "Warning: 97409519 may refer to a different K2 or TESS target. Please add the prefix 'EPIC' or 'TIC' to disambiguate.\n",
      "Warning: 25155310 may refer to a different K2 or TESS target. Please add the prefix 'EPIC' or 'TIC' to disambiguate.\n",
      "Warning: 238176110 may refer to a different K2 or TESS target. Please add the prefix 'EPIC' or 'TIC' to disambiguate.\n",
      "Warning: 52368076 may refer to a different K2 or TESS target. Please add the prefix 'EPIC' or 'TIC' to disambiguate.\n",
      "Warning: 70440470 may refer to a different K2 or TESS target. Please add the prefix 'EPIC' or 'TIC' to disambiguate.\n",
      "Warning: 234523599 may refer to a different K2 or TESS target. Please add the prefix 'EPIC' or 'TIC' to disambiguate.\n",
      "Warning: 25375553 may refer to a different K2 or TESS target. Please add the prefix 'EPIC' or 'TIC' to disambiguate.\n",
      "Warning: 29857954 may refer to a different K2 or TESS target. Please add the prefix 'EPIC' or 'TIC' to disambiguate.\n",
      "Warning: 100100827 may refer to a different K2 or TESS target. Please add the prefix 'EPIC' or 'TIC' to disambiguate.\n",
      "Warning: 166739520 may refer to a different K2 or TESS target. Please add the prefix 'EPIC' or 'TIC' to disambiguate.\n",
      "Warning: 183532609 may refer to a different K2 or TESS target. Please add the prefix 'EPIC' or 'TIC' to disambiguate.\n",
      "Warning: 183537452 may refer to a different K2 or TESS target. Please add the prefix 'EPIC' or 'TIC' to disambiguate.\n",
      "Warning: 211438925 may refer to a different K2 or TESS target. Please add the prefix 'EPIC' or 'TIC' to disambiguate.\n",
      "Warning: 230982885 may refer to a different K2 or TESS target. Please add the prefix 'EPIC' or 'TIC' to disambiguate.\n",
      "Warning: 55652896 may refer to a different K2 or TESS target. Please add the prefix 'EPIC' or 'TIC' to disambiguate.\n",
      "Warning: 77044471 may refer to a different K2 or TESS target. Please add the prefix 'EPIC' or 'TIC' to disambiguate.\n",
      "Warning: 120610833 may refer to a different K2 or TESS target. Please add the prefix 'EPIC' or 'TIC' to disambiguate.\n",
      "Warning: 204376737 may refer to a different K2 or TESS target. Please add the prefix 'EPIC' or 'TIC' to disambiguate.\n",
      "Warning: 9725627 may refer to a different Kepler or TESS target. Please add the prefix 'KIC' or 'TIC' to disambiguate.\n",
      "Warning: 77031414 may refer to a different K2 or TESS target. Please add the prefix 'EPIC' or 'TIC' to disambiguate.\n",
      "Warning: 158623531 may refer to a different K2 or TESS target. Please add the prefix 'EPIC' or 'TIC' to disambiguate.\n",
      "Warning: 160148385 may refer to a different K2 or TESS target. Please add the prefix 'EPIC' or 'TIC' to disambiguate.\n",
      "Warning: 184240683 may refer to a different K2 or TESS target. Please add the prefix 'EPIC' or 'TIC' to disambiguate.\n",
      "Warning: 204317710 may refer to a different K2 or TESS target. Please add the prefix 'EPIC' or 'TIC' to disambiguate.\n",
      "Warning: 92226327 may refer to a different K2 or TESS target. Please add the prefix 'EPIC' or 'TIC' to disambiguate.\n",
      "Warning: 12862099 may refer to a different Kepler or TESS target. Please add the prefix 'KIC' or 'TIC' to disambiguate.\n",
      "Warning: 122612091 may refer to a different K2 or TESS target. Please add the prefix 'EPIC' or 'TIC' to disambiguate.\n",
      "Warning: 159951311 may refer to a different K2 or TESS target. Please add the prefix 'EPIC' or 'TIC' to disambiguate.\n",
      "Warning: 166836920 may refer to a different K2 or TESS target. Please add the prefix 'EPIC' or 'TIC' to disambiguate.\n",
      "Warning: 145750719 may refer to a different K2 or TESS target. Please add the prefix 'EPIC' or 'TIC' to disambiguate.\n",
      "Warning: 114749636 may refer to a different K2 or TESS target. Please add the prefix 'EPIC' or 'TIC' to disambiguate.\n",
      "Warning: 116156517 may refer to a different K2 or TESS target. Please add the prefix 'EPIC' or 'TIC' to disambiguate.\n",
      "Warning: 228381868 may refer to a different K2 or TESS target. Please add the prefix 'EPIC' or 'TIC' to disambiguate.\n",
      "Warning: 77031413 may refer to a different K2 or TESS target. Please add the prefix 'EPIC' or 'TIC' to disambiguate.\n",
      "Warning: 1129033 may refer to a different Kepler or TESS target. Please add the prefix 'KIC' or 'TIC' to disambiguate.\n",
      "Warning: 35857242 may refer to a different K2 or TESS target. Please add the prefix 'EPIC' or 'TIC' to disambiguate.\n",
      "Warning: 120896927 may refer to a different K2 or TESS target. Please add the prefix 'EPIC' or 'TIC' to disambiguate.\n",
      "Warning: 166833457 may refer to a different K2 or TESS target. Please add the prefix 'EPIC' or 'TIC' to disambiguate.\n",
      "Warning: 170634116 may refer to a different K2 or TESS target. Please add the prefix 'EPIC' or 'TIC' to disambiguate.\n",
      "Warning: 152476657 may refer to a different K2 or TESS target. Please add the prefix 'EPIC' or 'TIC' to disambiguate.\n",
      "Warning: 178284730 may refer to a different K2 or TESS target. Please add the prefix 'EPIC' or 'TIC' to disambiguate.\n",
      "Warning: 43647325 may refer to a different K2 or TESS target. Please add the prefix 'EPIC' or 'TIC' to disambiguate.\n",
      "Warning: 78055054 may refer to a different K2 or TESS target. Please add the prefix 'EPIC' or 'TIC' to disambiguate.\n",
      "Warning: 32499655 may refer to a different K2 or TESS target. Please add the prefix 'EPIC' or 'TIC' to disambiguate.\n",
      "Warning: 13021029 may refer to a different Kepler or TESS target. Please add the prefix 'KIC' or 'TIC' to disambiguate.\n",
      "Warning: 117979897 may refer to a different K2 or TESS target. Please add the prefix 'EPIC' or 'TIC' to disambiguate.\n",
      "Warning: 139528693 may refer to a different K2 or TESS target. Please add the prefix 'EPIC' or 'TIC' to disambiguate.\n",
      "Warning: 139733308 may refer to a different K2 or TESS target. Please add the prefix 'EPIC' or 'TIC' to disambiguate.\n",
      "Warning: 4616072 may refer to a different Kepler or TESS target. Please add the prefix 'KIC' or 'TIC' to disambiguate.\n",
      "Warning: 33521996 may refer to a different K2 or TESS target. Please add the prefix 'EPIC' or 'TIC' to disambiguate.\n",
      "Warning: 47911178 may refer to a different K2 or TESS target. Please add the prefix 'EPIC' or 'TIC' to disambiguate.\n",
      "Warning: 52640302 may refer to a different K2 or TESS target. Please add the prefix 'EPIC' or 'TIC' to disambiguate.\n",
      "Warning: 59843967 may refer to a different K2 or TESS target. Please add the prefix 'EPIC' or 'TIC' to disambiguate.\n",
      "Warning: 170102285 may refer to a different K2 or TESS target. Please add the prefix 'EPIC' or 'TIC' to disambiguate.\n",
      "Warning: 17746821 may refer to a different K2 or TESS target. Please add the prefix 'EPIC' or 'TIC' to disambiguate.\n",
      "Warning: 22529346 may refer to a different K2 or TESS target. Please add the prefix 'EPIC' or 'TIC' to disambiguate.\n",
      "Warning: 134537478 may refer to a different K2 or TESS target. Please add the prefix 'EPIC' or 'TIC' to disambiguate.\n",
      "C:\\Users\\mhdal\\Anaconda3\\envs\\lambda-neural\\lib\\site-packages\\lightkurve\\search.py:185: LightkurveWarning: Warning: 3 files available to download. Only the first file has been downloaded. Please use `download_all()` or specify additional criteria (e.g. quarter, campaign, or sector) to limit your search.\n",
      "  LightkurveWarning)\n",
      "Warning: 234825296 may refer to a different K2 or TESS target. Please add the prefix 'EPIC' or 'TIC' to disambiguate.\n",
      "No data found for target \"234825296\".\n",
      "C:\\Users\\mhdal\\Anaconda3\\envs\\lambda-neural\\lib\\site-packages\\lightkurve\\search.py:177: LightkurveWarning: Cannot download from an empty search result.\n",
      "  LightkurveWarning)\n",
      "Warning: 234112540 may refer to a different K2 or TESS target. Please add the prefix 'EPIC' or 'TIC' to disambiguate.\n",
      "No data found for target \"234112540\".\n",
      "C:\\Users\\mhdal\\Anaconda3\\envs\\lambda-neural\\lib\\site-packages\\lightkurve\\search.py:177: LightkurveWarning: Cannot download from an empty search result.\n",
      "  LightkurveWarning)\n",
      "Warning: 37168957 may refer to a different K2 or TESS target. Please add the prefix 'EPIC' or 'TIC' to disambiguate.\n",
      "Warning: 36440357 may refer to a different K2 or TESS target. Please add the prefix 'EPIC' or 'TIC' to disambiguate.\n",
      "Warning: 36352297 may refer to a different K2 or TESS target. Please add the prefix 'EPIC' or 'TIC' to disambiguate.\n",
      "Warning: 42821097 may refer to a different K2 or TESS target. Please add the prefix 'EPIC' or 'TIC' to disambiguate.\n",
      "Warning: 192826603 may refer to a different K2 or TESS target. Please add the prefix 'EPIC' or 'TIC' to disambiguate.\n",
      "C:\\Users\\mhdal\\Anaconda3\\envs\\lambda-neural\\lib\\site-packages\\lightkurve\\search.py:185: LightkurveWarning: Warning: 2 files available to download. Only the first file has been downloaded. Please use `download_all()` or specify additional criteria (e.g. quarter, campaign, or sector) to limit your search.\n",
      "  LightkurveWarning)\n",
      "Warning: 13349647 may refer to a different K2 or TESS target. Please add the prefix 'EPIC' or 'TIC' to disambiguate.\n",
      "C:\\Users\\mhdal\\Anaconda3\\envs\\lambda-neural\\lib\\site-packages\\lightkurve\\search.py:185: LightkurveWarning: Warning: 2 files available to download. Only the first file has been downloaded. Please use `download_all()` or specify additional criteria (e.g. quarter, campaign, or sector) to limit your search.\n",
      "  LightkurveWarning)\n",
      "C:\\Users\\mhdal\\Anaconda3\\envs\\lambda-neural\\lib\\site-packages\\lightkurve\\search.py:177: LightkurveWarning: Cannot download from an empty search result.\n",
      "  LightkurveWarning)\n",
      "C:\\Users\\mhdal\\Anaconda3\\envs\\lambda-neural\\lib\\site-packages\\lightkurve\\search.py:177: LightkurveWarning: Cannot download from an empty search result.\n",
      "  LightkurveWarning)\n",
      "Warning: 35516889 may refer to a different K2 or TESS target. Please add the prefix 'EPIC' or 'TIC' to disambiguate.\n",
      "Warning: 36734222 may refer to a different K2 or TESS target. Please add the prefix 'EPIC' or 'TIC' to disambiguate.\n"
     ]
    }
   ],
   "source": [
    "df_list = []\n",
    "for i in tess_id['tid']:\n",
    "    try:\n",
    "        locals()['lc_{0}'.format(i)] = search_targetpixelfile(i).download(quality_bitmask='hardest')\n",
    "        t = pd.DataFrame(locals()['lc_{0}'.format(i)].time, columns=['time'])\n",
    "        f = pd.DataFrame(locals()['lc_{0}'.format(i)].to_lightcurve(aperture_mask=locals()['lc_{0}'.format(i)].pipeline_mask).flux, columns=['flux'])\n",
    "        locals()['lc_{0}'.format(i)] = t.merge(f, how='outer', left_index=True, right_index=True)\n",
    "        df_list.append(locals()['lc_{0}'.format(i)])\n",
    "    except:\n",
    "        continue"
   ]
  },
  {
   "cell_type": "code",
   "execution_count": null,
   "metadata": {
    "colab": {},
    "colab_type": "code",
    "id": "OmuGsGYGDJcC"
   },
   "outputs": [],
   "source": [
    "# for i in tess_id.iloc[56:58]['ticid']:\n",
    "#   locals()['lc_{0}'.format(i)] = search_targetpixelfile(i).download(quality_bitmask='hardest')\n",
    "#   t = pd.DataFrame(locals()['lc_{0}'.format(i)].time, columns=['time'])\n",
    "#   f = pd.DataFrame(locals()['lc_{0}'.format(i)].to_lightcurve(aperture_mask=locals()['lc_{0}'.format(i)].pipeline_mask).flux, columns=['flux'])\n",
    "#   locals()['lc_{0}'.format(i)] = t.merge(f, how='outer', left_index=True, right_index=True)\n",
    "#   df_list.append(locals()['lc_{0}'.format(i)])"
   ]
  },
  {
   "cell_type": "code",
   "execution_count": null,
   "metadata": {
    "colab": {},
    "colab_type": "code",
    "id": "yyFOb4LMJnOT"
   },
   "outputs": [],
   "source": [
    "#tess_id.to_csv(r'\\TESS_confirmed_train.csv')"
   ]
  },
  {
   "cell_type": "code",
   "execution_count": null,
   "metadata": {
    "colab": {},
    "colab_type": "code",
    "id": "ggn1AuxqIA7b"
   },
   "outputs": [],
   "source": [
    "df = df_list[0].T\n",
    "for i in df_list[0:]:\n",
    "    temp_df = i.T\n",
    "    df = pd.concat([df,temp_df])"
   ]
  },
  {
   "cell_type": "code",
   "execution_count": null,
   "metadata": {},
   "outputs": [],
   "source": [
    "df.to_csv(r'\\TESS_confirmed_train.csv')"
   ]
  },
  {
   "cell_type": "code",
   "execution_count": null,
   "metadata": {
    "colab": {
     "base_uri": "https://localhost:8080/",
     "height": 246
    },
    "colab_type": "code",
    "id": "_rI2RlKzIn5V",
    "outputId": "50345813-34d0-4e90-ea62-ff8a14f6adb5"
   },
   "outputs": [],
   "source": [
    "df.shape"
   ]
  },
  {
   "cell_type": "code",
   "execution_count": null,
   "metadata": {},
   "outputs": [],
   "source": [
    "df.head()"
   ]
  },
  {
   "cell_type": "code",
   "execution_count": null,
   "metadata": {
    "colab": {},
    "colab_type": "code",
    "id": "my0RZfHsIpEx"
   },
   "outputs": [],
   "source": [
    "train_flux = df.loc['flux']"
   ]
  },
  {
   "cell_type": "code",
   "execution_count": null,
   "metadata": {},
   "outputs": [],
   "source": []
  },
  {
   "cell_type": "code",
   "execution_count": null,
   "metadata": {},
   "outputs": [],
   "source": [
    "# from google.colab import files\n",
    "# uploaded = files.upload()"
   ]
  },
  {
   "cell_type": "code",
   "execution_count": 27,
   "metadata": {},
   "outputs": [],
   "source": [
    "test_flux = pd.read_csv(\"../Machinelearning/test_flux.csv\")"
   ]
  },
  {
   "cell_type": "code",
   "execution_count": 28,
   "metadata": {},
   "outputs": [
    {
     "data": {
      "text/html": [
       "<div>\n",
       "<style scoped>\n",
       "    .dataframe tbody tr th:only-of-type {\n",
       "        vertical-align: middle;\n",
       "    }\n",
       "\n",
       "    .dataframe tbody tr th {\n",
       "        vertical-align: top;\n",
       "    }\n",
       "\n",
       "    .dataframe thead th {\n",
       "        text-align: right;\n",
       "    }\n",
       "</style>\n",
       "<table border=\"1\" class=\"dataframe\">\n",
       "  <thead>\n",
       "    <tr style=\"text-align: right;\">\n",
       "      <th></th>\n",
       "      <th>Unnamed: 0</th>\n",
       "      <th>tid</th>\n",
       "      <th>TESS Disposition</th>\n",
       "    </tr>\n",
       "  </thead>\n",
       "  <tbody>\n",
       "    <tr>\n",
       "      <th>0</th>\n",
       "      <td>0</td>\n",
       "      <td>231663901</td>\n",
       "      <td>PC</td>\n",
       "    </tr>\n",
       "    <tr>\n",
       "      <th>1</th>\n",
       "      <td>1</td>\n",
       "      <td>149603524</td>\n",
       "      <td>PC</td>\n",
       "    </tr>\n",
       "    <tr>\n",
       "      <th>2</th>\n",
       "      <td>2</td>\n",
       "      <td>336732616</td>\n",
       "      <td>PC</td>\n",
       "    </tr>\n",
       "    <tr>\n",
       "      <th>3</th>\n",
       "      <td>3</td>\n",
       "      <td>231670397</td>\n",
       "      <td>PC</td>\n",
       "    </tr>\n",
       "    <tr>\n",
       "      <th>4</th>\n",
       "      <td>4</td>\n",
       "      <td>144065872</td>\n",
       "      <td>PC</td>\n",
       "    </tr>\n",
       "  </tbody>\n",
       "</table>\n",
       "</div>"
      ],
      "text/plain": [
       "   Unnamed: 0        tid TESS Disposition\n",
       "0           0  231663901               PC\n",
       "1           1  149603524               PC\n",
       "2           2  336732616               PC\n",
       "3           3  231670397               PC\n",
       "4           4  144065872               PC"
      ]
     },
     "execution_count": 28,
     "metadata": {},
     "output_type": "execute_result"
    }
   ],
   "source": [
    "test_flux.head()"
   ]
  },
  {
   "cell_type": "code",
   "execution_count": 32,
   "metadata": {},
   "outputs": [
    {
     "data": {
      "text/plain": [
       "(8, 18102)"
      ]
     },
     "execution_count": 32,
     "metadata": {},
     "output_type": "execute_result"
    }
   ],
   "source": [
    "test_flux.shape"
   ]
  },
  {
   "cell_type": "code",
   "execution_count": 29,
   "metadata": {},
   "outputs": [
    {
     "name": "stderr",
     "output_type": "stream",
     "text": [
      "Warning: 231663901 may refer to a different K2 or TESS target. Please add the prefix 'EPIC' or 'TIC' to disambiguate.\n",
      "C:\\Users\\mhdal\\Anaconda3\\envs\\lambda-neural\\lib\\site-packages\\lightkurve\\search.py:177: LightkurveWarning: Cannot download from an empty search result.\n",
      "  LightkurveWarning)\n",
      "Warning: 149603524 may refer to a different K2 or TESS target. Please add the prefix 'EPIC' or 'TIC' to disambiguate.\n",
      "C:\\Users\\mhdal\\Anaconda3\\envs\\lambda-neural\\lib\\site-packages\\lightkurve\\search.py:185: LightkurveWarning: Warning: 12 files available to download. Only the first file has been downloaded. Please use `download_all()` or specify additional criteria (e.g. quarter, campaign, or sector) to limit your search.\n",
      "  LightkurveWarning)\n",
      "Warning: 231670397 may refer to a different K2 or TESS target. Please add the prefix 'EPIC' or 'TIC' to disambiguate.\n",
      "C:\\Users\\mhdal\\Anaconda3\\envs\\lambda-neural\\lib\\site-packages\\lightkurve\\search.py:177: LightkurveWarning: Cannot download from an empty search result.\n",
      "  LightkurveWarning)\n",
      "Warning: 144065872 may refer to a different K2 or TESS target. Please add the prefix 'EPIC' or 'TIC' to disambiguate.\n"
     ]
    }
   ],
   "source": [
    "# df_list = []\n",
    "# for i in test_id['tid'].head():\n",
    "#     try:\n",
    "#         locals()['lc_{0}'.format(i)] = search_targetpixelfile(i).download(quality_bitmask='hardest')\n",
    "#         t = pd.DataFrame(locals()['lc_{0}'.format(i)].time, columns=['time'])\n",
    "#         f = pd.DataFrame(locals()['lc_{0}'.format(i)].to_lightcurve(aperture_mask=locals()['lc_{0}'.format(i)].pipeline_mask).flux, columns=['flux'])\n",
    "#         locals()['lc_{0}'.format(i)] = t.merge(f, how='outer', left_index=True, right_index=True)\n",
    "#         df_list.append(locals()['lc_{0}'.format(i)])\n",
    "#     except:\n",
    "#         continue"
   ]
  },
  {
   "cell_type": "code",
   "execution_count": 30,
   "metadata": {},
   "outputs": [],
   "source": [
    "# test = df_list[0].T\n",
    "# for i in df_list[0:]:\n",
    "#     temp_df = i.T\n",
    "#     test = pd.concat([test,temp_df])"
   ]
  },
  {
   "cell_type": "code",
   "execution_count": 31,
   "metadata": {},
   "outputs": [
    {
     "data": {
      "text/plain": [
       "(8, 18102)"
      ]
     },
     "execution_count": 31,
     "metadata": {},
     "output_type": "execute_result"
    }
   ],
   "source": [
    "test_flux.shape"
   ]
  },
  {
   "cell_type": "code",
   "execution_count": 33,
   "metadata": {},
   "outputs": [
    {
     "data": {
      "text/html": [
       "<div>\n",
       "<style scoped>\n",
       "    .dataframe tbody tr th:only-of-type {\n",
       "        vertical-align: middle;\n",
       "    }\n",
       "\n",
       "    .dataframe tbody tr th {\n",
       "        vertical-align: top;\n",
       "    }\n",
       "\n",
       "    .dataframe thead th {\n",
       "        text-align: right;\n",
       "    }\n",
       "</style>\n",
       "<table border=\"1\" class=\"dataframe\">\n",
       "  <thead>\n",
       "    <tr style=\"text-align: right;\">\n",
       "      <th></th>\n",
       "      <th>0</th>\n",
       "      <th>1</th>\n",
       "      <th>2</th>\n",
       "      <th>3</th>\n",
       "      <th>4</th>\n",
       "      <th>5</th>\n",
       "      <th>6</th>\n",
       "      <th>7</th>\n",
       "      <th>8</th>\n",
       "      <th>9</th>\n",
       "      <th>...</th>\n",
       "      <th>18092</th>\n",
       "      <th>18093</th>\n",
       "      <th>18094</th>\n",
       "      <th>18095</th>\n",
       "      <th>18096</th>\n",
       "      <th>18097</th>\n",
       "      <th>18098</th>\n",
       "      <th>18099</th>\n",
       "      <th>18100</th>\n",
       "      <th>18101</th>\n",
       "    </tr>\n",
       "  </thead>\n",
       "  <tbody>\n",
       "    <tr>\n",
       "      <th>time</th>\n",
       "      <td>1325.295601</td>\n",
       "      <td>1325.296990</td>\n",
       "      <td>1325.298379</td>\n",
       "      <td>1325.299768</td>\n",
       "      <td>1325.301156</td>\n",
       "      <td>1325.302545</td>\n",
       "      <td>1325.303934</td>\n",
       "      <td>1325.305323</td>\n",
       "      <td>1325.306712</td>\n",
       "      <td>1325.308101</td>\n",
       "      <td>...</td>\n",
       "      <td>1353.165164</td>\n",
       "      <td>1353.166553</td>\n",
       "      <td>1353.167942</td>\n",
       "      <td>1353.169331</td>\n",
       "      <td>1353.170719</td>\n",
       "      <td>1353.172108</td>\n",
       "      <td>1353.173497</td>\n",
       "      <td>1353.174886</td>\n",
       "      <td>1353.176275</td>\n",
       "      <td>NaN</td>\n",
       "    </tr>\n",
       "    <tr>\n",
       "      <th>flux</th>\n",
       "      <td>18084.248047</td>\n",
       "      <td>18082.056641</td>\n",
       "      <td>18101.650391</td>\n",
       "      <td>18088.429688</td>\n",
       "      <td>18126.058594</td>\n",
       "      <td>18121.578125</td>\n",
       "      <td>18082.603516</td>\n",
       "      <td>18123.091797</td>\n",
       "      <td>18100.623047</td>\n",
       "      <td>18116.753906</td>\n",
       "      <td>...</td>\n",
       "      <td>18144.128906</td>\n",
       "      <td>18107.697266</td>\n",
       "      <td>18080.300781</td>\n",
       "      <td>18130.236328</td>\n",
       "      <td>18118.664062</td>\n",
       "      <td>18109.041016</td>\n",
       "      <td>18113.759766</td>\n",
       "      <td>18104.052734</td>\n",
       "      <td>18089.572266</td>\n",
       "      <td>NaN</td>\n",
       "    </tr>\n",
       "    <tr>\n",
       "      <th>time</th>\n",
       "      <td>1325.295601</td>\n",
       "      <td>1325.296990</td>\n",
       "      <td>1325.298379</td>\n",
       "      <td>1325.299768</td>\n",
       "      <td>1325.301156</td>\n",
       "      <td>1325.302545</td>\n",
       "      <td>1325.303934</td>\n",
       "      <td>1325.305323</td>\n",
       "      <td>1325.306712</td>\n",
       "      <td>1325.308101</td>\n",
       "      <td>...</td>\n",
       "      <td>1353.165164</td>\n",
       "      <td>1353.166553</td>\n",
       "      <td>1353.167942</td>\n",
       "      <td>1353.169331</td>\n",
       "      <td>1353.170719</td>\n",
       "      <td>1353.172108</td>\n",
       "      <td>1353.173497</td>\n",
       "      <td>1353.174886</td>\n",
       "      <td>1353.176275</td>\n",
       "      <td>NaN</td>\n",
       "    </tr>\n",
       "    <tr>\n",
       "      <th>flux</th>\n",
       "      <td>18084.248047</td>\n",
       "      <td>18082.056641</td>\n",
       "      <td>18101.650391</td>\n",
       "      <td>18088.429688</td>\n",
       "      <td>18126.058594</td>\n",
       "      <td>18121.578125</td>\n",
       "      <td>18082.603516</td>\n",
       "      <td>18123.091797</td>\n",
       "      <td>18100.623047</td>\n",
       "      <td>18116.753906</td>\n",
       "      <td>...</td>\n",
       "      <td>18144.128906</td>\n",
       "      <td>18107.697266</td>\n",
       "      <td>18080.300781</td>\n",
       "      <td>18130.236328</td>\n",
       "      <td>18118.664062</td>\n",
       "      <td>18109.041016</td>\n",
       "      <td>18113.759766</td>\n",
       "      <td>18104.052734</td>\n",
       "      <td>18089.572266</td>\n",
       "      <td>NaN</td>\n",
       "    </tr>\n",
       "    <tr>\n",
       "      <th>time</th>\n",
       "      <td>1325.301513</td>\n",
       "      <td>1325.302902</td>\n",
       "      <td>1325.304291</td>\n",
       "      <td>1325.305680</td>\n",
       "      <td>1325.307069</td>\n",
       "      <td>1325.308458</td>\n",
       "      <td>1325.309847</td>\n",
       "      <td>1325.311236</td>\n",
       "      <td>1325.312624</td>\n",
       "      <td>1325.314013</td>\n",
       "      <td>...</td>\n",
       "      <td>1353.166396</td>\n",
       "      <td>1353.167784</td>\n",
       "      <td>NaN</td>\n",
       "      <td>NaN</td>\n",
       "      <td>NaN</td>\n",
       "      <td>NaN</td>\n",
       "      <td>NaN</td>\n",
       "      <td>NaN</td>\n",
       "      <td>NaN</td>\n",
       "      <td>NaN</td>\n",
       "    </tr>\n",
       "  </tbody>\n",
       "</table>\n",
       "<p>5 rows × 18102 columns</p>\n",
       "</div>"
      ],
      "text/plain": [
       "             0             1             2             3             4      \\\n",
       "time   1325.295601   1325.296990   1325.298379   1325.299768   1325.301156   \n",
       "flux  18084.248047  18082.056641  18101.650391  18088.429688  18126.058594   \n",
       "time   1325.295601   1325.296990   1325.298379   1325.299768   1325.301156   \n",
       "flux  18084.248047  18082.056641  18101.650391  18088.429688  18126.058594   \n",
       "time   1325.301513   1325.302902   1325.304291   1325.305680   1325.307069   \n",
       "\n",
       "             5             6             7             8             9      \\\n",
       "time   1325.302545   1325.303934   1325.305323   1325.306712   1325.308101   \n",
       "flux  18121.578125  18082.603516  18123.091797  18100.623047  18116.753906   \n",
       "time   1325.302545   1325.303934   1325.305323   1325.306712   1325.308101   \n",
       "flux  18121.578125  18082.603516  18123.091797  18100.623047  18116.753906   \n",
       "time   1325.308458   1325.309847   1325.311236   1325.312624   1325.314013   \n",
       "\n",
       "      ...         18092         18093         18094         18095  \\\n",
       "time  ...   1353.165164   1353.166553   1353.167942   1353.169331   \n",
       "flux  ...  18144.128906  18107.697266  18080.300781  18130.236328   \n",
       "time  ...   1353.165164   1353.166553   1353.167942   1353.169331   \n",
       "flux  ...  18144.128906  18107.697266  18080.300781  18130.236328   \n",
       "time  ...   1353.166396   1353.167784           NaN           NaN   \n",
       "\n",
       "             18096         18097         18098         18099         18100  \\\n",
       "time   1353.170719   1353.172108   1353.173497   1353.174886   1353.176275   \n",
       "flux  18118.664062  18109.041016  18113.759766  18104.052734  18089.572266   \n",
       "time   1353.170719   1353.172108   1353.173497   1353.174886   1353.176275   \n",
       "flux  18118.664062  18109.041016  18113.759766  18104.052734  18089.572266   \n",
       "time           NaN           NaN           NaN           NaN           NaN   \n",
       "\n",
       "      18101  \n",
       "time    NaN  \n",
       "flux    NaN  \n",
       "time    NaN  \n",
       "flux    NaN  \n",
       "time    NaN  \n",
       "\n",
       "[5 rows x 18102 columns]"
      ]
     },
     "execution_count": 33,
     "metadata": {},
     "output_type": "execute_result"
    }
   ],
   "source": [
    "test_flux.head()"
   ]
  },
  {
   "cell_type": "code",
   "execution_count": null,
   "metadata": {
    "colab": {},
    "colab_type": "code",
    "id": "hoJndWNXIyDN"
   },
   "outputs": [],
   "source": [
    "# for later use\n",
    "#df_flux['ID'] = list(tess_id['ticid'].head(100))"
   ]
  },
  {
   "cell_type": "code",
   "execution_count": null,
   "metadata": {
    "colab": {},
    "colab_type": "code",
    "id": "Sq98Jp8uJaWq"
   },
   "outputs": [],
   "source": [
    "train_flux.to_csv(r'\\Flux dataframe.csv')"
   ]
  },
  {
   "cell_type": "code",
   "execution_count": 19,
   "metadata": {
    "colab": {
     "base_uri": "https://localhost:8080/",
     "height": 33
    },
    "colab_type": "code",
    "id": "A0XzKEyIJa-Y",
    "outputId": "16bb4e09-5d1b-441d-8a66-a5277c77e826"
   },
   "outputs": [
    {
     "data": {
      "text/plain": [
       "(58, 18104)"
      ]
     },
     "execution_count": 19,
     "metadata": {
      "tags": []
     },
     "output_type": "execute_result"
    }
   ],
   "source": [
    "train_flux.shape"
   ]
  },
  {
   "cell_type": "code",
   "execution_count": 44,
   "metadata": {
    "colab": {
     "base_uri": "https://localhost:8080/",
     "height": 268
    },
    "colab_type": "code",
    "id": "KTeI3kqWOR3J",
    "outputId": "d1b16986-4c4e-4e58-83c9-9609b8bfe803"
   },
   "outputs": [
    {
     "data": {
      "image/png": "[encoded data removed]",
      "text/plain": [
       "<Figure size 432x288 with 1 Axes>"
      ]
     },
     "metadata": {
      "tags": []
     },
     "output_type": "display_data"
    }
   ],
   "source": [
    "plt.plot(train_flux.iloc[10,])\n",
    "plt.show()"
   ]
  },
  {
   "cell_type": "code",
   "execution_count": null,
   "metadata": {
    "colab": {},
    "colab_type": "code",
    "id": "24TIfj4VJe0n"
   },
   "outputs": [],
   "source": [
    "def reduce_df(df,n=3197):\n",
    "    temp_df = df.iloc[:,0]\n",
    "    n = df.shape[1]//test_flux.shape[1]\n",
    "    for i in range(1,df.shape[1],n):\n",
    "        temp_df2 = df.iloc[:,i]\n",
    "        temp_df = pd.concat([temp_df,temp_df2], axis=1)\n",
    "    return temp_df"
   ]
  },
  {
   "cell_type": "code",
   "execution_count": null,
   "metadata": {
    "colab": {},
    "colab_type": "code",
    "id": "HurIA-Y-LWI-"
   },
   "outputs": [],
   "source": [
    "reduced_train_flux = reduce_df(train_flux)"
   ]
  },
  {
   "cell_type": "code",
   "execution_count": 43,
   "metadata": {
    "colab": {
     "base_uri": "https://localhost:8080/",
     "height": 268
    },
    "colab_type": "code",
    "id": "z4KGO3SNOKKv",
    "outputId": "4bda0aaa-41d6-4f7c-a106-311628729b57"
   },
   "outputs": [
    {
     "data": {
      "image/png": "[encoded data removed]",
      "text/plain": [
       "<Figure size 432x288 with 1 Axes>"
      ]
     },
     "metadata": {
      "tags": []
     },
     "output_type": "display_data"
    }
   ],
   "source": [
    "plt.plot(reduced_train_flux.iloc[10,])\n",
    "plt.show()"
   ]
  },
  {
   "cell_type": "code",
   "execution_count": 34,
   "metadata": {
    "colab": {
     "base_uri": "https://localhost:8080/",
     "height": 33
    },
    "colab_type": "code",
    "id": "ljyBw9PGLa4w",
    "outputId": "ef7308f1-a326-429c-e3be-d63233dec56a"
   },
   "outputs": [
    {
     "data": {
      "text/plain": [
       "(58, 3622)"
      ]
     },
     "execution_count": 34,
     "metadata": {
      "tags": []
     },
     "output_type": "execute_result"
    }
   ],
   "source": [
    "reduced_train_flux.shape"
   ]
  },
  {
   "cell_type": "code",
   "execution_count": null,
   "metadata": {
    "colab": {},
    "colab_type": "code",
    "id": "1xqYAzhhLgkT"
   },
   "outputs": [],
   "source": [
    "reduced_flux = reduced_train_flux.iloc[:,:3197]"
   ]
  },
  {
   "cell_type": "code",
   "execution_count": null,
   "metadata": {
    "colab": {},
    "colab_type": "code",
    "id": "D-1-Dt73MU6i"
   },
   "outputs": [],
   "source": [
    "import pandas as pd\n",
    "import numpy as np\n",
    "from scipy import ndimage, fft\n",
    "from sklearn.preprocessing import normalize, StandardScaler, MinMaxScaler\n",
    "\n",
    "class LightFluxProcessor:\n",
    "\n",
    "    def __init__(self, fourier=True, normalize=True, gaussian=True, standardize=True):\n",
    "        self.fourier = fourier\n",
    "        self.normalize = normalize\n",
    "        self.gaussian = gaussian\n",
    "        self.standardize = standardize\n",
    "\n",
    "    def fourier_transform(self, X):\n",
    "        return np.abs(fft(X, n=X.size))\n",
    "\n",
    "    def process(self, df_train_x, df_dev_x):\n",
    "        # Generate X and Y sets\n",
    "        # df_train_x = df_train.drop('LABEL', axis=1)\n",
    "        # df_dev_x = df_dev.drop('LABEL', axis=1)\n",
    "        # df_train_y = df_train.LABEL\n",
    "        # df_dev_y = df_dev.LABEL\n",
    "\n",
    "        # Apply fourier transform\n",
    "        if self.fourier:\n",
    "            print(\"Applying Fourier...\")\n",
    "            df_train_x = df_train_x.apply(self.fourier_transform,axis=0)\n",
    "            df_dev_x = df_dev_x.apply(self.fourier_transform,axis=0)\n",
    "\n",
    "            # Keep first half of data as it is symmetrical after previous steps\n",
    "            df_train_x = df_train_x.iloc[:,:(df_train_x.shape[1]//2)].values\n",
    "            df_dev_x = df_dev_x.iloc[:,:(df_dev_x.shape[1]//2)].values\n",
    "            \n",
    "        if self.normalize:\n",
    "            print(\"Normalizing...\")\n",
    "            df_train_x = pd.DataFrame(normalize(df_train_x))\n",
    "            df_dev_x = pd.DataFrame(normalize(df_dev_x))\n",
    "\n",
    "\n",
    "\n",
    "        # Gaussian filter to smooth out data\n",
    "        if self.gaussian:\n",
    "            print(\"Applying Gaussian Filter...\")\n",
    "            df_train_x = ndimage.filters.gaussian_filter(df_train_x, sigma=10)\n",
    "            df_dev_x = ndimage.filters.gaussian_filter(df_dev_x, sigma=10)\n",
    "\n",
    "        if self.standardize:\n",
    "            # Standardize X data\n",
    "            print(\"Standardizing...\")\n",
    "            std_scaler = StandardScaler()\n",
    "            df_train_x = std_scaler.fit_transform(df_train_x)\n",
    "            df_dev_x = std_scaler.transform(df_dev_x)\n",
    "                # Normalize\n",
    "\n",
    "           \n",
    "\n",
    "        print(\"Finished Processing!\")\n",
    "        return df_train_x, df_dev_x"
   ]
  },
  {
   "cell_type": "code",
   "execution_count": 39,
   "metadata": {
    "colab": {
     "base_uri": "https://localhost:8080/",
     "height": 83
    },
    "colab_type": "code",
    "id": "xIyNcujgNluQ",
    "outputId": "d54fb900-889c-4ee8-a455-1686598d52c6"
   },
   "outputs": [
    {
     "name": "stdout",
     "output_type": "stream",
     "text": [
      "Applying Fourier...\n",
      "Applying Gaussian Filter...\n",
      "Standardizing...\n",
      "Finished Processing!\n"
     ]
    }
   ],
   "source": [
    "# Process dataset\n",
    "LFP = LightFluxProcessor(\n",
    "    fourier=True,\n",
    "    normalize=False,\n",
    "    gaussian=True,\n",
    "    standardize=True)\n",
    "train_flux_proc, df_dev_x = LFP.process(reduced_train_flux, reduced_train_flux)"
   ]
  },
  {
   "cell_type": "code",
   "execution_count": 42,
   "metadata": {
    "colab": {
     "base_uri": "https://localhost:8080/",
     "height": 268
    },
    "colab_type": "code",
    "id": "4btIyXIgNqT_",
    "outputId": "c1ed0139-c5c2-46ec-c429-b757d79fceb7"
   },
   "outputs": [
    {
     "data": {
      "image/png": "[encoded data removed]",
      "text/plain": [
       "<Figure size 432x288 with 1 Axes>"
      ]
     },
     "metadata": {
      "tags": []
     },
     "output_type": "display_data"
    }
   ],
   "source": [
    "plt.plot(train_flux_proc[10])\n",
    "plt.show()"
   ]
  },
  {
   "cell_type": "code",
   "execution_count": 48,
   "metadata": {
    "colab": {
     "base_uri": "https://localhost:8080/",
     "height": 50
    },
    "colab_type": "code",
    "id": "GotDyivxOtAW",
    "outputId": "970caf9f-fe45-493d-86b9-7b2b397a213f"
   },
   "outputs": [
    {
     "name": "stderr",
     "output_type": "stream",
     "text": [
      "/usr/local/lib/python3.6/dist-packages/IPython/core/interactiveshell.py:2718: DtypeWarning: Columns (1518) have mixed types. Specify dtype option on import or set low_memory=False.\n",
      "  interactivity=interactivity, compiler=compiler, result=result)\n"
     ]
    }
   ],
   "source": [
    "#train = pd.read_csv('exoTrain.csv')"
   ]
  },
  {
   "cell_type": "code",
   "execution_count": null,
   "metadata": {
    "colab": {},
    "colab_type": "code",
    "id": "xj6TswNuOu5v"
   },
   "outputs": [],
   "source": [
    "#test = pd.read_csv('exoTest.csv')"
   ]
  },
  {
   "cell_type": "code",
   "execution_count": null,
   "metadata": {
    "colab": {
     "base_uri": "https://localhost:8080/",
     "height": 302
    },
    "colab_type": "code",
    "id": "QtGIAVmfglra",
    "outputId": "45d6049d-12c4-4bb0-8c0e-28b42c8b16af"
   },
   "outputs": [],
   "source": [
    "#train.loc[:,\"FLUX.1518\"] = train.loc[:,\"FLUX.1518\"].astype('float64')"
   ]
  },
  {
   "cell_type": "code",
   "execution_count": null,
   "metadata": {
    "colab": {},
    "colab_type": "code",
    "id": "x2-WhhirgwgD"
   },
   "outputs": [],
   "source": []
  },
  {
   "cell_type": "code",
   "execution_count": 61,
   "metadata": {
    "colab": {
     "base_uri": "https://localhost:8080/",
     "height": 452
    },
    "colab_type": "code",
    "id": "N6nJDyXNPOuR",
    "outputId": "4be16412-9deb-4236-d2a0-53f53338c0ce"
   },
   "outputs": [
    {
     "name": "stdout",
     "output_type": "stream",
     "text": [
      "Loading datasets...\n"
     ]
    },
    {
     "name": "stderr",
     "output_type": "stream",
     "text": [
      "/usr/local/lib/python3.6/dist-packages/IPython/core/interactiveshell.py:2718: DtypeWarning: Columns (1518) have mixed types. Specify dtype option on import or set low_memory=False.\n",
      "  interactivity=interactivity, compiler=compiler, result=result)\n"
     ]
    },
    {
     "name": "stdout",
     "output_type": "stream",
     "text": [
      "Applying Fourier...\n",
      "Normalizing...\n"
     ]
    },
    {
     "ename": "ValueError",
     "evalue": "ignored",
     "output_type": "error",
     "traceback": [
      "\u001b[0;31m---------------------------------------------------------------------------\u001b[0m",
      "\u001b[0;31mValueError\u001b[0m                                Traceback (most recent call last)",
      "\u001b[0;32m<ipython-input-61-71365efbbbe0>\u001b[0m in \u001b[0;36m<module>\u001b[0;34m()\u001b[0m\n\u001b[1;32m     82\u001b[0m       \u001b[0mgaussian\u001b[0m\u001b[0;34m=\u001b[0m\u001b[0;32mTrue\u001b[0m\u001b[0;34m,\u001b[0m\u001b[0;34m\u001b[0m\u001b[0;34m\u001b[0m\u001b[0m\n\u001b[1;32m     83\u001b[0m       standardize=True)\n\u001b[0;32m---> 84\u001b[0;31m   \u001b[0mdf_train_x\u001b[0m\u001b[0;34m,\u001b[0m \u001b[0mdf_dev_x\u001b[0m \u001b[0;34m=\u001b[0m \u001b[0mLFP\u001b[0m\u001b[0;34m.\u001b[0m\u001b[0mprocess\u001b[0m\u001b[0;34m(\u001b[0m\u001b[0mdf_train_x\u001b[0m\u001b[0;34m,\u001b[0m \u001b[0mdf_dev_x\u001b[0m\u001b[0;34m)\u001b[0m\u001b[0;34m\u001b[0m\u001b[0;34m\u001b[0m\u001b[0m\n\u001b[0m\u001b[1;32m     85\u001b[0m \u001b[0;34m\u001b[0m\u001b[0m\n\u001b[1;32m     86\u001b[0m   \u001b[0;31m# Rejoin X and Y\u001b[0m\u001b[0;34m\u001b[0m\u001b[0;34m\u001b[0m\u001b[0;34m\u001b[0m\u001b[0m\n",
      "\u001b[0;32m<ipython-input-36-84bdc1e1a5c5>\u001b[0m in \u001b[0;36mprocess\u001b[0;34m(self, df_train_x, df_dev_x)\u001b[0m\n\u001b[1;32m     34\u001b[0m         \u001b[0;32mif\u001b[0m \u001b[0mself\u001b[0m\u001b[0;34m.\u001b[0m\u001b[0mnormalize\u001b[0m\u001b[0;34m:\u001b[0m\u001b[0;34m\u001b[0m\u001b[0;34m\u001b[0m\u001b[0m\n\u001b[1;32m     35\u001b[0m             \u001b[0mprint\u001b[0m\u001b[0;34m(\u001b[0m\u001b[0;34m\"Normalizing...\"\u001b[0m\u001b[0;34m)\u001b[0m\u001b[0;34m\u001b[0m\u001b[0;34m\u001b[0m\u001b[0m\n\u001b[0;32m---> 36\u001b[0;31m             \u001b[0mdf_train_x\u001b[0m \u001b[0;34m=\u001b[0m \u001b[0mpd\u001b[0m\u001b[0;34m.\u001b[0m\u001b[0mDataFrame\u001b[0m\u001b[0;34m(\u001b[0m\u001b[0mnormalize\u001b[0m\u001b[0;34m(\u001b[0m\u001b[0mdf_train_x\u001b[0m\u001b[0;34m)\u001b[0m\u001b[0;34m)\u001b[0m\u001b[0;34m\u001b[0m\u001b[0;34m\u001b[0m\u001b[0m\n\u001b[0m\u001b[1;32m     37\u001b[0m             \u001b[0mdf_dev_x\u001b[0m \u001b[0;34m=\u001b[0m \u001b[0mpd\u001b[0m\u001b[0;34m.\u001b[0m\u001b[0mDataFrame\u001b[0m\u001b[0;34m(\u001b[0m\u001b[0mnormalize\u001b[0m\u001b[0;34m(\u001b[0m\u001b[0mdf_dev_x\u001b[0m\u001b[0;34m)\u001b[0m\u001b[0;34m)\u001b[0m\u001b[0;34m\u001b[0m\u001b[0;34m\u001b[0m\u001b[0m\n\u001b[1;32m     38\u001b[0m \u001b[0;34m\u001b[0m\u001b[0m\n",
      "\u001b[0;32m/usr/local/lib/python3.6/dist-packages/sklearn/preprocessing/data.py\u001b[0m in \u001b[0;36mnormalize\u001b[0;34m(X, norm, axis, copy, return_norm)\u001b[0m\n\u001b[1;32m   1612\u001b[0m \u001b[0;34m\u001b[0m\u001b[0m\n\u001b[1;32m   1613\u001b[0m     X = check_array(X, sparse_format, copy=copy,\n\u001b[0;32m-> 1614\u001b[0;31m                     estimator='the normalize function', dtype=FLOAT_DTYPES)\n\u001b[0m\u001b[1;32m   1615\u001b[0m     \u001b[0;32mif\u001b[0m \u001b[0maxis\u001b[0m \u001b[0;34m==\u001b[0m \u001b[0;36m0\u001b[0m\u001b[0;34m:\u001b[0m\u001b[0;34m\u001b[0m\u001b[0;34m\u001b[0m\u001b[0m\n\u001b[1;32m   1616\u001b[0m         \u001b[0mX\u001b[0m \u001b[0;34m=\u001b[0m \u001b[0mX\u001b[0m\u001b[0;34m.\u001b[0m\u001b[0mT\u001b[0m\u001b[0;34m\u001b[0m\u001b[0;34m\u001b[0m\u001b[0m\n",
      "\u001b[0;32m/usr/local/lib/python3.6/dist-packages/sklearn/utils/validation.py\u001b[0m in \u001b[0;36mcheck_array\u001b[0;34m(array, accept_sparse, accept_large_sparse, dtype, order, copy, force_all_finite, ensure_2d, allow_nd, ensure_min_samples, ensure_min_features, warn_on_dtype, estimator)\u001b[0m\n\u001b[1;32m    540\u001b[0m         \u001b[0;32mif\u001b[0m \u001b[0mforce_all_finite\u001b[0m\u001b[0;34m:\u001b[0m\u001b[0;34m\u001b[0m\u001b[0;34m\u001b[0m\u001b[0m\n\u001b[1;32m    541\u001b[0m             _assert_all_finite(array,\n\u001b[0;32m--> 542\u001b[0;31m                                allow_nan=force_all_finite == 'allow-nan')\n\u001b[0m\u001b[1;32m    543\u001b[0m \u001b[0;34m\u001b[0m\u001b[0m\n\u001b[1;32m    544\u001b[0m     \u001b[0;32mif\u001b[0m \u001b[0mensure_min_samples\u001b[0m \u001b[0;34m>\u001b[0m \u001b[0;36m0\u001b[0m\u001b[0;34m:\u001b[0m\u001b[0;34m\u001b[0m\u001b[0;34m\u001b[0m\u001b[0m\n",
      "\u001b[0;32m/usr/local/lib/python3.6/dist-packages/sklearn/utils/validation.py\u001b[0m in \u001b[0;36m_assert_all_finite\u001b[0;34m(X, allow_nan)\u001b[0m\n\u001b[1;32m     54\u001b[0m                 not allow_nan and not np.isfinite(X).all()):\n\u001b[1;32m     55\u001b[0m             \u001b[0mtype_err\u001b[0m \u001b[0;34m=\u001b[0m \u001b[0;34m'infinity'\u001b[0m \u001b[0;32mif\u001b[0m \u001b[0mallow_nan\u001b[0m \u001b[0;32melse\u001b[0m \u001b[0;34m'NaN, infinity'\u001b[0m\u001b[0;34m\u001b[0m\u001b[0;34m\u001b[0m\u001b[0m\n\u001b[0;32m---> 56\u001b[0;31m             \u001b[0;32mraise\u001b[0m \u001b[0mValueError\u001b[0m\u001b[0;34m(\u001b[0m\u001b[0mmsg_err\u001b[0m\u001b[0;34m.\u001b[0m\u001b[0mformat\u001b[0m\u001b[0;34m(\u001b[0m\u001b[0mtype_err\u001b[0m\u001b[0;34m,\u001b[0m \u001b[0mX\u001b[0m\u001b[0;34m.\u001b[0m\u001b[0mdtype\u001b[0m\u001b[0;34m)\u001b[0m\u001b[0;34m)\u001b[0m\u001b[0;34m\u001b[0m\u001b[0;34m\u001b[0m\u001b[0m\n\u001b[0m\u001b[1;32m     57\u001b[0m     \u001b[0;31m# for object dtype data, we only check for NaNs (GH-13254)\u001b[0m\u001b[0;34m\u001b[0m\u001b[0;34m\u001b[0m\u001b[0;34m\u001b[0m\u001b[0m\n\u001b[1;32m     58\u001b[0m     \u001b[0;32melif\u001b[0m \u001b[0mX\u001b[0m\u001b[0;34m.\u001b[0m\u001b[0mdtype\u001b[0m \u001b[0;34m==\u001b[0m \u001b[0mnp\u001b[0m\u001b[0;34m.\u001b[0m\u001b[0mdtype\u001b[0m\u001b[0;34m(\u001b[0m\u001b[0;34m'object'\u001b[0m\u001b[0;34m)\u001b[0m \u001b[0;32mand\u001b[0m \u001b[0;32mnot\u001b[0m \u001b[0mallow_nan\u001b[0m\u001b[0;34m:\u001b[0m\u001b[0;34m\u001b[0m\u001b[0;34m\u001b[0m\u001b[0m\n",
      "\u001b[0;31mValueError\u001b[0m: Input contains NaN, infinity or a value too large for dtype('float64')."
     ]
    }
   ],
   "source": [
    "    \n",
    "import pandas as pd\n",
    "import numpy as np\n",
    "import keras\n",
    "from keras.models import Sequential\n",
    "from keras.layers import Dense, Activation, Dropout\n",
    "from keras.layers.normalization import BatchNormalization\n",
    "from keras import metrics\n",
    "from keras.callbacks import ModelCheckpoint\n",
    "\n",
    "from imblearn.over_sampling import SMOTE\n",
    "\n",
    "from pathlib import Path\n",
    "\n",
    "from sklearn.utils import shuffle\n",
    "from sklearn.preprocessing import StandardScaler, MinMaxScaler\n",
    "from sklearn.metrics import accuracy_score, precision_score, recall_score, confusion_matrix\n",
    "import matplotlib.pyplot as plt\n",
    "import math\n",
    "import time\n",
    "\n",
    "from sklearn.metrics import classification_report\n",
    "\n",
    "from  scipy import ndimage, fft\n",
    "from sklearn.preprocessing import normalize\n",
    "\n",
    "#from preprocess_data import LightFluxProcessor\n",
    "\n",
    "np.random.seed(1)\n",
    "\n",
    "LOAD_MODEL = True # continue training previous weights or start fresh\n",
    "RENDER_PLOT = False # render loss and accuracy plots\n",
    "\n",
    "def build_network():\n",
    "      # Model config\n",
    "      learning_rate = 0.001\n",
    "\n",
    "      layers = [\n",
    "          { \"units\": 1, \"input_dim\": n_x, \"activation\": 'relu', \"dropout\": 0 },\n",
    "          { \"units\": n_y, \"input_dim\": 1, \"activation\": 'sigmoid', \"dropout\": 0 },\n",
    "      ]\n",
    "\n",
    "      # Build model\n",
    "      model = Sequential()\n",
    "      for layer in layers:\n",
    "          model.add(Dense(units=layer[\"units\"], input_dim=layer[\"input_dim\"]))\n",
    "          model.add(Activation(layer[\"activation\"]))\n",
    "          if layer[\"dropout\"] > 0:\n",
    "              model.add(Dropout(layer[\"dropout\"]))\n",
    "\n",
    "      model.compile(loss=keras.losses.binary_crossentropy,\n",
    "                    optimizer=keras.optimizers.Adam(lr=learning_rate),\n",
    "                    metrics=['accuracy'])\n",
    "      return model\n",
    "\n",
    "def np_X_Y_from_df(df):\n",
    "      df = shuffle(df)\n",
    "      df_X = df.drop(['LABEL'], axis=1)\n",
    "      X = np.array(df_X)\n",
    "      Y_raw = np.array(df['LABEL']).reshape((len(df['LABEL']),1))\n",
    "      Y = Y_raw == 2\n",
    "      return X, Y\n",
    "    \n",
    "if __name__ == \"__main__\":\n",
    "      train_dataset_path = \"exoTrain.csv\"\n",
    "      dev_dataset_path = \"exoTest.csv\"\n",
    "\n",
    "      print(\"Loading datasets...\")\n",
    "      df_train = pd.read_csv(train_dataset_path, encoding = \"ISO-8859-1\")\n",
    "      df_dev = pd.read_csv(dev_dataset_path, encoding = \"ISO-8859-1\")\n",
    "\n",
    "      # Generate X and Y dataframe sets\n",
    "      df_train_x = df_train.drop('LABEL', axis=1)\n",
    "      df_dev_x = df_dev.drop('LABEL', axis=1)\n",
    "      df_train_y = df_train.LABEL\n",
    "      df_dev_y = df_dev.LABEL\n",
    "\n",
    "      # Process dataset\n",
    "      LFP = LightFluxProcessor(\n",
    "          fourier=True,\n",
    "          normalize=True,\n",
    "          gaussian=True,\n",
    "          standardize=True)\n",
    "      df_train_x, df_dev_x = LFP.process(df_train_x, df_dev_x)\n",
    "\n",
    "      # Rejoin X and Y\n",
    "      df_train_processed = pd.DataFrame(df_train_x).join(pd.DataFrame(df_train_y))\n",
    "      df_dev_processed = pd.DataFrame(df_dev_x).join(pd.DataFrame(df_dev_y))\n",
    "\n",
    "      # Load X and Y numpy arrays\n",
    "      X_train, Y_train = np_X_Y_from_df(df_train_processed)\n",
    "      X_dev, Y_dev = np_X_Y_from_df(df_dev_processed)\n",
    "\n",
    "      # Print data set stats\n",
    "      (num_examples, n_x) = X_train.shape # (n_x: input size, m : number of examples in the train set)\n",
    "      n_y = Y_train.shape[1] # n_y : output size\n",
    "      print(\"X_train.shape: \", X_train.shape)\n",
    "      print(\"Y_train.shape: \", Y_train.shape)\n",
    "      print(\"X_dev.shape: \", X_dev.shape)\n",
    "      print(\"Y_dev.shape: \", Y_dev.shape)\n",
    "      print(\"n_x: \", n_x)\n",
    "      print(\"num_examples: \", num_examples)\n",
    "      print(\"n_y: \", n_y)\n",
    "\n",
    "      # Build model\n",
    "      model = build_network()\n",
    "\n",
    "      # Load weights\n",
    "      load_path=\"\"\n",
    "      my_file = Path(load_path)\n",
    "      if LOAD_MODEL and my_file.is_file():\n",
    "          model.load_weights(load_path)\n",
    "          print(\"------------\")\n",
    "          print(\"Loaded saved weights\")\n",
    "          print(\"------------\")\n",
    "\n",
    "\n",
    "      sm = SMOTE(ratio = 1.0)\n",
    "      X_train_sm, Y_train_sm = sm.fit_sample(X_train, Y_train)\n",
    "      # X_train_sm, Y_train_sm = X_train, Y_train\n",
    "\n",
    "\n",
    "      # Train\n",
    "      # checkpoint = ModelCheckpoint(filepath, monitor='val_acc', verbose=1, save_best_only=True, mode='max')\n",
    "      # callbacks_list = [checkpoint]\n",
    "      print(\"Training...\")\n",
    "      history = model.fit(X_train_sm, Y_train_sm, epochs=10, batch_size=32)\n",
    "\n",
    "      # Metrics\n",
    "      train_outputs = model.predict(X_train, batch_size=32)\n",
    "      dev_outputs = model.predict(X_dev, batch_size=32)\n",
    "      train_outputs = np.rint(train_outputs)\n",
    "      dev_outputs = np.rint(dev_outputs)\n",
    "      accuracy_train = accuracy_score(Y_train, train_outputs)\n",
    "      accuracy_dev = accuracy_score(Y_dev, dev_outputs)\n",
    "      precision_train = precision_score(Y_train, train_outputs)\n",
    "      precision_dev = precision_score(Y_dev, dev_outputs)\n",
    "      recall_train = recall_score(Y_train, train_outputs)\n",
    "      recall_dev = recall_score(Y_dev, dev_outputs)\n",
    "      confusion_matrix_train = confusion_matrix(Y_train, train_outputs)\n",
    "      confusion_matrix_dev = confusion_matrix(Y_dev, dev_outputs)\n"
   ]
  },
  {
   "cell_type": "code",
   "execution_count": null,
   "metadata": {
    "colab": {},
    "colab_type": "code",
    "id": "Sw4ip4KDPh-q"
   },
   "outputs": [],
   "source": [
    "# Save model\n",
    "print(\"Saving model...\")\n",
    "save_weights_path = \"model\".format(recall_train, recall_dev) # load_path\n",
    "model.save_weights(save_weights_path)\n",
    "save_path = \"models_v2/model-recall-{}-{}.hdf5\".format(recall_train, recall_dev) # load_path\n",
    "# model.save(save_path)\n",
    "\n",
    "print(\"train set error\", 1.0 - accuracy_train)\n",
    "print(\"dev set error\", 1.0 - accuracy_dev)\n",
    "print(\"------------\")\n",
    "print(\"precision_train\", precision_train)\n",
    "print(\"precision_dev\", precision_dev)\n",
    "print(\"------------\")\n",
    "print(\"recall_train\", recall_train)\n",
    "print(\"recall_dev\", recall_dev)\n",
    "print(\"------------\")\n",
    "print(\"confusion_matrix_train\")\n",
    "print(confusion_matrix_train)\n",
    "print(\"confusion_matrix_dev\")\n",
    "print(confusion_matrix_dev)\n",
    "print(\"------------\")\n",
    "print(\"Train Set Positive Predictions\", np.count_nonzero(train_outputs))\n",
    "print(\"Dev Set Positive Predictions\", np.count_nonzero(dev_outputs))\n",
    "#  Predicting 0's will give you error:\n",
    "print(\"------------\")\n",
    "print(\"All 0's error train set\", 37/5087)\n",
    "print(\"All 0's error dev set\", 5/570)\n",
    "\n",
    "print(\"------------\")\n",
    "print(\"------------\")\n",
    "\n",
    "if RENDER_PLOT:\n",
    "    # list all data in history\n",
    "    print(history.history.keys())\n",
    "    # summarize history for accuracy\n",
    "    plt.plot(history.history['acc'])\n",
    "    # plt.plot(history.history['val_acc'])\n",
    "    plt.title('model accuracy')\n",
    "    plt.ylabel('accuracy')\n",
    "    plt.xlabel('epoch')\n",
    "    plt.legend(['train', 'test'], loc='upper left')\n",
    "    plt.show()\n",
    "\n",
    "    # summarize history for loss\n",
    "    plt.plot(history.history['loss'])\n",
    "    # plt.plot(history.history['val_loss'])\n",
    "    plt.title('model loss')\n",
    "    plt.ylabel('loss')\n",
    "    plt.xlabel('epoch')\n",
    "    plt.legend(['train', 'test'], loc='upper left')\n",
    "    plt.show()"
   ]
  },
  {
   "cell_type": "code",
   "execution_count": null,
   "metadata": {},
   "outputs": [],
   "source": [
    "test_flux, df_dev_x = LFP.process(test_flux, test_flux)"
   ]
  },
  {
   "cell_type": "code",
   "execution_count": null,
   "metadata": {
    "colab": {},
    "colab_type": "code",
    "id": "1jPMLB17P39Q"
   },
   "outputs": [],
   "source": [
    "predictions = pd.DataFrame(model.predict(test_flux, batch_size=32), columns=['predictions'])\n",
    "ids = pd.DataFrame(list(tess_id['ticid'].head(58)), columns=['TCID'])\n",
    "predictions = pd.concat([list(tess_id['ticid'].head(58)), predictions])"
   ]
  },
  {
   "cell_type": "code",
   "execution_count": null,
   "metadata": {
    "colab": {},
    "colab_type": "code",
    "id": "fRPV1iPmQ0SJ"
   },
   "outputs": [],
   "source": [
    "predictions.head()"
   ]
  },
  {
   "cell_type": "code",
   "execution_count": null,
   "metadata": {
    "colab": {},
    "colab_type": "code",
    "id": "3UFKXi-2QDNQ"
   },
   "outputs": [],
   "source": [
    "predictions.to_csv(r'\\Tess predictions.csv')"
   ]
  },
  {
   "cell_type": "code",
   "execution_count": null,
   "metadata": {
    "colab": {},
    "colab_type": "code",
    "id": "qhyTcrrLQ8YC"
   },
   "outputs": [],
   "source": []
  }
 ],
 "metadata": {
  "colab": {
   "collapsed_sections": [],
   "name": "Tess NN model.ipynb",
   "provenance": [],
   "version": "0.3.2"
  },
  "kernelspec": {
   "display_name": "Python [conda env:lambda-neural]",
   "language": "python",
   "name": "conda-env-lambda-neural-py"
  },
  "language_info": {
   "codemirror_mode": {
    "name": "ipython",
    "version": 3
   },
   "file_extension": ".py",
   "mimetype": "text/x-python",
   "name": "python",
   "nbconvert_exporter": "python",
   "pygments_lexer": "ipython3",
   "version": "3.7.3"
  }
 },
 "nbformat": 4,
 "nbformat_minor": 2
}
